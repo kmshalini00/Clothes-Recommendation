{
 "cells": [
  {
   "cell_type": "markdown",
   "id": "ad41c8ce",
   "metadata": {},
   "source": [
    "## Fashion Mnist"
   ]
  },
  {
   "cell_type": "markdown",
   "id": "0c4ee431",
   "metadata": {},
   "source": [
    "### Import all the Dependencies"
   ]
  },
  {
   "cell_type": "code",
   "execution_count": 1,
   "id": "80bda278",
   "metadata": {},
   "outputs": [],
   "source": [
    "import tensorflow as tf\n",
    "from tensorflow.keras import models, layers\n",
    "import matplotlib.pyplot as plt"
   ]
  },
  {
   "cell_type": "markdown",
   "id": "22a8ba6e",
   "metadata": {},
   "source": [
    "#### Set constant"
   ]
  },
  {
   "cell_type": "code",
   "execution_count": 2,
   "id": "517ab866",
   "metadata": {},
   "outputs": [],
   "source": [
    "BATCH_SIZE = 32\n",
    "IMAGE_SIZE = 28\n",
    "CHANNELS=3\n",
    "EPOCHS=50"
   ]
  },
  {
   "cell_type": "markdown",
   "id": "d508e818",
   "metadata": {},
   "source": [
    "#### Import fashion data into tensorflow dataset object"
   ]
  },
  {
   "cell_type": "code",
   "execution_count": 3,
   "id": "d7b98ae2",
   "metadata": {},
   "outputs": [
    {
     "name": "stdout",
     "output_type": "stream",
     "text": [
      "Found 48000 files belonging to 10 classes.\n"
     ]
    }
   ],
   "source": [
    "train_df = tf.keras.preprocessing.image_dataset_from_directory(\n",
    "    \"data/train\",\n",
    "    seed=123,\n",
    "    shuffle=True,\n",
    "    image_size=(IMAGE_SIZE,IMAGE_SIZE),\n",
    "    batch_size=BATCH_SIZE\n",
    ")"
   ]
  },
  {
   "cell_type": "code",
   "execution_count": 4,
   "id": "488742a6",
   "metadata": {},
   "outputs": [
    {
     "data": {
      "text/plain": [
       "['0', '1', '2', '3', '4', '5', '6', '7', '8', '9']"
      ]
     },
     "execution_count": 4,
     "metadata": {},
     "output_type": "execute_result"
    }
   ],
   "source": [
    "class_names = train_df.class_names\n",
    "class_names"
   ]
  },
  {
   "cell_type": "code",
   "execution_count": 5,
   "id": "44b90139",
   "metadata": {},
   "outputs": [
    {
     "name": "stdout",
     "output_type": "stream",
     "text": [
      "(32, 28, 28, 3)\n",
      "[0 4 7 1 5 7 9 9 2 3 7 4 9 6 8 5 5 6 5 7 4 9 8 0 3 0 8 1 0 3 7 1]\n"
     ]
    }
   ],
   "source": [
    "for image_batch, labels_batch in train_df.take(1):\n",
    "    print(image_batch.shape)\n",
    "    print(labels_batch.numpy())"
   ]
  },
  {
   "cell_type": "code",
   "execution_count": 6,
   "id": "2d16f8c5",
   "metadata": {},
   "outputs": [
    {
     "name": "stdout",
     "output_type": "stream",
     "text": [
      "Found 10000 files belonging to 10 classes.\n"
     ]
    }
   ],
   "source": [
    "test_df = tf.keras.preprocessing.image_dataset_from_directory(\n",
    "    \"data/test\",\n",
    "    seed=123,\n",
    "    shuffle=True,\n",
    "    image_size=(IMAGE_SIZE,IMAGE_SIZE),\n",
    "    batch_size=BATCH_SIZE\n",
    ")"
   ]
  },
  {
   "cell_type": "code",
   "execution_count": 7,
   "id": "6a4268f1",
   "metadata": {},
   "outputs": [
    {
     "name": "stdout",
     "output_type": "stream",
     "text": [
      "Found 12000 files belonging to 10 classes.\n"
     ]
    }
   ],
   "source": [
    "valid_df = tf.keras.preprocessing.image_dataset_from_directory(\n",
    "    \"data/valid\",\n",
    "    seed=123,\n",
    "    shuffle=True,\n",
    "    image_size=(IMAGE_SIZE,IMAGE_SIZE),\n",
    "    batch_size=BATCH_SIZE\n",
    ")"
   ]
  },
  {
   "cell_type": "markdown",
   "id": "b66b913c",
   "metadata": {},
   "source": [
    "Each element in the dataset is a tuple. First element is a batch of 32 elements of images. Second element is a batch of 32 elements of class labels"
   ]
  },
  {
   "cell_type": "markdown",
   "id": "99221cb4",
   "metadata": {},
   "source": [
    "### Visualize some of the images from our dataset"
   ]
  },
  {
   "cell_type": "code",
   "execution_count": 8,
   "id": "83b2acf6",
   "metadata": {},
   "outputs": [
    {
     "data": {
      "image/png": "[encoded data removed]",
      "text/plain": [
       "<Figure size 720x720 with 12 Axes>"
      ]
     },
     "metadata": {
      "needs_background": "light"
     },
     "output_type": "display_data"
    }
   ],
   "source": [
    "plt.figure(figsize=(10, 10))\n",
    "for image_batch, labels_batch in train_df.take(1):\n",
    "    for i in range(12):\n",
    "        ax = plt.subplot(3, 4, i + 1)\n",
    "        plt.imshow(image_batch[i].numpy().astype(\"uint8\"))\n",
    "        plt.title(class_names[labels_batch[i]])\n",
    "        plt.axis(\"off\")"
   ]
  },
  {
   "cell_type": "code",
   "execution_count": 9,
   "id": "bb810349",
   "metadata": {},
   "outputs": [
    {
     "data": {
      "text/plain": [
       "1500"
      ]
     },
     "execution_count": 9,
     "metadata": {},
     "output_type": "execute_result"
    }
   ],
   "source": [
    "len(train_df)"
   ]
  },
  {
   "cell_type": "code",
   "execution_count": 10,
   "id": "60a3559e",
   "metadata": {},
   "outputs": [
    {
     "data": {
      "text/plain": [
       "375"
      ]
     },
     "execution_count": 10,
     "metadata": {},
     "output_type": "execute_result"
    }
   ],
   "source": [
    "len(valid_df)"
   ]
  },
  {
   "cell_type": "code",
   "execution_count": 11,
   "id": "f970e780",
   "metadata": {},
   "outputs": [
    {
     "data": {
      "text/plain": [
       "313"
      ]
     },
     "execution_count": 11,
     "metadata": {},
     "output_type": "execute_result"
    }
   ],
   "source": [
    "len(test_df)"
   ]
  },
  {
   "cell_type": "markdown",
   "id": "69e4c534",
   "metadata": {},
   "source": [
    "### Cache, Shuffle, and Prefetch the Dataset"
   ]
  },
  {
   "cell_type": "code",
   "execution_count": 12,
   "id": "cdd66f24",
   "metadata": {},
   "outputs": [],
   "source": [
    "train_df = train_df.cache().shuffle(1000).prefetch(buffer_size=tf.data.AUTOTUNE)\n",
    "valid_df = valid_df.cache().shuffle(1000).prefetch(buffer_size=tf.data.AUTOTUNE)\n",
    "test_df = test_df.cache().shuffle(1000).prefetch(buffer_size=tf.data.AUTOTUNE)"
   ]
  },
  {
   "cell_type": "markdown",
   "id": "b8b8ae8b",
   "metadata": {},
   "source": [
    "### Building the Model"
   ]
  },
  {
   "cell_type": "markdown",
   "id": "8a782a3f",
   "metadata": {},
   "source": [
    "#### Creating a Layer for Resizing and Normalization"
   ]
  },
  {
   "cell_type": "markdown",
   "id": "92bee7bb",
   "metadata": {},
   "source": [
    "First we should be resizing it to the desired size to improve model performance, we should normalize the image pixel value. This should happen while training as well as inference. Hence we can add that as a layer in our Sequential Model."
   ]
  },
  {
   "cell_type": "code",
   "execution_count": 13,
   "id": "1c21c5b2",
   "metadata": {},
   "outputs": [],
   "source": [
    "resize_and_rescale = tf.keras.Sequential([\n",
    "  layers.experimental.preprocessing.Resizing(IMAGE_SIZE, IMAGE_SIZE),\n",
    "  layers.experimental.preprocessing.Rescaling(1./27),\n",
    "])"
   ]
  },
  {
   "cell_type": "markdown",
   "id": "00f79466",
   "metadata": {},
   "source": [
    "#### Data Augmentation\n"
   ]
  },
  {
   "cell_type": "markdown",
   "id": "d71a276b",
   "metadata": {},
   "source": [
    "Data Augmentation is needed when we have less data, this boosts the accuracy of our model by augmenting the data.\n",
    "It rorate the image in posssible way and that are used for model training."
   ]
  },
  {
   "cell_type": "code",
   "execution_count": 14,
   "id": "cfb8570b",
   "metadata": {},
   "outputs": [],
   "source": [
    "data_augmentation = tf.keras.Sequential([\n",
    "  layers.experimental.preprocessing.RandomFlip(\"horizontal_and_vertical\"),\n",
    "  layers.experimental.preprocessing.RandomRotation(0.2),\n",
    "])"
   ]
  },
  {
   "cell_type": "markdown",
   "id": "039af3b1",
   "metadata": {},
   "source": [
    "#### Applying Data Augmentation to Train Dataset"
   ]
  },
  {
   "cell_type": "code",
   "execution_count": 15,
   "id": "e7ade99e",
   "metadata": {},
   "outputs": [],
   "source": [
    "train_df = train_df.map(\n",
    "    lambda x, y: (data_augmentation(x, training=True), y)\n",
    ").prefetch(buffer_size=tf.data.AUTOTUNE)"
   ]
  },
  {
   "cell_type": "markdown",
   "id": "b204c92a",
   "metadata": {},
   "source": [
    "### Model Architecture"
   ]
  },
  {
   "cell_type": "markdown",
   "id": "0ed93af1",
   "metadata": {},
   "source": [
    "We use a CNN coupled with a Softmax activation in the output layer. We also add the initial layers for resizing, normalization and Data Augmentation.\n",
    "\n",
    "We are going to use convolutional neural network (CNN) here. CNN is popular for image classification tasks. Watch below video to understand fundamentals of CNN"
   ]
  },
  {
   "cell_type": "code",
   "execution_count": 16,
   "id": "c229c7b1",
   "metadata": {},
   "outputs": [],
   "source": [
    "input_shape = (BATCH_SIZE, IMAGE_SIZE, IMAGE_SIZE, CHANNELS)\n",
    "n_classes = 10\n",
    "\n",
    "model = models.Sequential([\n",
    "    resize_and_rescale,\n",
    "    layers.Conv2D(filters=64, kernel_size=2, padding='same', activation='relu', input_shape=(28,28,1)),\n",
    "    layers.MaxPooling2D(pool_size=2),\n",
    "    layers.Dropout(0.2),\n",
    "    layers.Conv2D(filters=32, kernel_size=2, padding='same', activation='relu'),\n",
    "    layers.MaxPooling2D(pool_size=2),\n",
    "    layers.Dropout(0.3),\n",
    "    layers.Flatten(),\n",
    "    layers.Dense(256, activation='relu'),\n",
    "    layers.Dropout(0.4),\n",
    "    layers.Dense(n_classes, activation='softmax'),\n",
    "])\n",
    "\n",
    "model.build(input_shape=input_shape)"
   ]
  },
  {
   "cell_type": "code",
   "execution_count": null,
   "id": "f14d86a4",
   "metadata": {},
   "outputs": [],
   "source": []
  },
  {
   "cell_type": "code",
   "execution_count": 17,
   "id": "074304f2",
   "metadata": {},
   "outputs": [
    {
     "name": "stdout",
     "output_type": "stream",
     "text": [
      "Model: \"sequential_2\"\n",
      "_________________________________________________________________\n",
      " Layer (type)                Output Shape              Param #   \n",
      "=================================================================\n",
      " sequential (Sequential)     (32, 28, 28, 3)           0         \n",
      "                                                                 \n",
      " conv2d (Conv2D)             (32, 28, 28, 64)          832       \n",
      "                                                                 \n",
      " max_pooling2d (MaxPooling2D  (32, 14, 14, 64)         0         \n",
      " )                                                               \n",
      "                                                                 \n",
      " dropout (Dropout)           (32, 14, 14, 64)          0         \n",
      "                                                                 \n",
      " conv2d_1 (Conv2D)           (32, 14, 14, 32)          8224      \n",
      "                                                                 \n",
      " max_pooling2d_1 (MaxPooling  (32, 7, 7, 32)           0         \n",
      " 2D)                                                             \n",
      "                                                                 \n",
      " dropout_1 (Dropout)         (32, 7, 7, 32)            0         \n",
      "                                                                 \n",
      " flatten (Flatten)           (32, 1568)                0         \n",
      "                                                                 \n",
      " dense (Dense)               (32, 256)                 401664    \n",
      "                                                                 \n",
      " dropout_2 (Dropout)         (32, 256)                 0         \n",
      "                                                                 \n",
      " dense_1 (Dense)             (32, 10)                  2570      \n",
      "                                                                 \n",
      "=================================================================\n",
      "Total params: 413,290\n",
      "Trainable params: 413,290\n",
      "Non-trainable params: 0\n",
      "_________________________________________________________________\n"
     ]
    }
   ],
   "source": [
    "model.summary()"
   ]
  },
  {
   "cell_type": "markdown",
   "id": "dcbda787",
   "metadata": {},
   "source": [
    "#### Compiling the Model"
   ]
  },
  {
   "cell_type": "markdown",
   "id": "1559f197",
   "metadata": {},
   "source": [
    "We use adam Optimizer, SparseCategoricalCrossentropy for losses, accuracy as a metric"
   ]
  },
  {
   "cell_type": "code",
   "execution_count": 18,
   "id": "e5b126fe",
   "metadata": {},
   "outputs": [],
   "source": [
    "model.compile(\n",
    "    optimizer='adam',\n",
    "    loss=tf.keras.losses.SparseCategoricalCrossentropy(from_logits=False),\n",
    "    metrics=['accuracy']\n",
    ")"
   ]
  },
  {
   "cell_type": "code",
   "execution_count": 19,
   "id": "4aa6ad4a",
   "metadata": {},
   "outputs": [
    {
     "name": "stdout",
     "output_type": "stream",
     "text": [
      "Epoch 1/50\n",
      "1500/1500 [==============================] - 119s 42ms/step - loss: 1.1829 - accuracy: 0.5703 - val_loss: 0.6654 - val_accuracy: 0.7580\n",
      "Epoch 2/50\n",
      "1500/1500 [==============================] - 10s 6ms/step - loss: 0.8605 - accuracy: 0.6833 - val_loss: 0.6382 - val_accuracy: 0.7593\n",
      "Epoch 3/50\n",
      "1500/1500 [==============================] - 10s 7ms/step - loss: 0.7913 - accuracy: 0.7078 - val_loss: 0.5915 - val_accuracy: 0.7785\n",
      "Epoch 4/50\n",
      "1500/1500 [==============================] - 10s 7ms/step - loss: 0.7588 - accuracy: 0.7215 - val_loss: 0.6033 - val_accuracy: 0.7796\n",
      "Epoch 5/50\n",
      "1500/1500 [==============================] - 10s 7ms/step - loss: 0.7238 - accuracy: 0.7344 - val_loss: 0.5393 - val_accuracy: 0.8023\n",
      "Epoch 6/50\n",
      "1500/1500 [==============================] - 10s 7ms/step - loss: 0.7062 - accuracy: 0.7402 - val_loss: 0.5208 - val_accuracy: 0.8057\n",
      "Epoch 7/50\n",
      "1500/1500 [==============================] - 10s 7ms/step - loss: 0.6893 - accuracy: 0.7440 - val_loss: 0.5153 - val_accuracy: 0.8091\n",
      "Epoch 8/50\n",
      "1500/1500 [==============================] - 10s 7ms/step - loss: 0.6751 - accuracy: 0.7516 - val_loss: 0.4916 - val_accuracy: 0.8198\n",
      "Epoch 9/50\n",
      "1500/1500 [==============================] - 10s 7ms/step - loss: 0.6645 - accuracy: 0.7552 - val_loss: 0.5188 - val_accuracy: 0.8087\n",
      "Epoch 10/50\n",
      "1500/1500 [==============================] - 10s 7ms/step - loss: 0.6533 - accuracy: 0.7613 - val_loss: 0.5190 - val_accuracy: 0.8169\n",
      "Epoch 11/50\n",
      "1500/1500 [==============================] - 10s 7ms/step - loss: 0.6421 - accuracy: 0.7641 - val_loss: 0.4768 - val_accuracy: 0.8248\n",
      "Epoch 12/50\n",
      "1500/1500 [==============================] - 10s 7ms/step - loss: 0.6374 - accuracy: 0.7668 - val_loss: 0.5033 - val_accuracy: 0.8100\n",
      "Epoch 13/50\n",
      "1500/1500 [==============================] - 10s 7ms/step - loss: 0.6296 - accuracy: 0.7707 - val_loss: 0.5128 - val_accuracy: 0.8141\n",
      "Epoch 14/50\n",
      "1500/1500 [==============================] - 10s 7ms/step - loss: 0.6194 - accuracy: 0.7735 - val_loss: 0.4723 - val_accuracy: 0.8275\n",
      "Epoch 15/50\n",
      "1500/1500 [==============================] - 10s 7ms/step - loss: 0.6206 - accuracy: 0.7728 - val_loss: 0.4830 - val_accuracy: 0.8248\n",
      "Epoch 16/50\n",
      "1500/1500 [==============================] - 10s 7ms/step - loss: 0.6095 - accuracy: 0.7772 - val_loss: 0.4881 - val_accuracy: 0.8187\n",
      "Epoch 17/50\n",
      "1500/1500 [==============================] - 10s 7ms/step - loss: 0.6071 - accuracy: 0.7793 - val_loss: 0.4687 - val_accuracy: 0.8262\n",
      "Epoch 18/50\n",
      "1500/1500 [==============================] - 10s 7ms/step - loss: 0.6087 - accuracy: 0.7800 - val_loss: 0.4850 - val_accuracy: 0.8212\n",
      "Epoch 19/50\n",
      "1500/1500 [==============================] - 10s 7ms/step - loss: 0.6085 - accuracy: 0.7771 - val_loss: 0.4508 - val_accuracy: 0.8338\n",
      "Epoch 20/50\n",
      "1500/1500 [==============================] - 10s 7ms/step - loss: 0.6023 - accuracy: 0.7808 - val_loss: 0.4482 - val_accuracy: 0.8395\n",
      "Epoch 21/50\n",
      "1500/1500 [==============================] - 10s 7ms/step - loss: 0.5963 - accuracy: 0.7847 - val_loss: 0.4714 - val_accuracy: 0.8244\n",
      "Epoch 22/50\n",
      "1500/1500 [==============================] - 10s 7ms/step - loss: 0.5921 - accuracy: 0.7845 - val_loss: 0.4572 - val_accuracy: 0.8303\n",
      "Epoch 23/50\n",
      "1500/1500 [==============================] - 10s 7ms/step - loss: 0.5957 - accuracy: 0.7821 - val_loss: 0.4377 - val_accuracy: 0.8373\n",
      "Epoch 24/50\n",
      "1500/1500 [==============================] - 10s 7ms/step - loss: 0.5898 - accuracy: 0.7854 - val_loss: 0.4492 - val_accuracy: 0.8378\n",
      "Epoch 25/50\n",
      "1500/1500 [==============================] - 10s 7ms/step - loss: 0.5887 - accuracy: 0.7852 - val_loss: 0.4646 - val_accuracy: 0.8306\n",
      "Epoch 26/50\n",
      "1500/1500 [==============================] - 10s 7ms/step - loss: 0.5846 - accuracy: 0.7863 - val_loss: 0.4392 - val_accuracy: 0.8382\n",
      "Epoch 27/50\n",
      "1500/1500 [==============================] - 10s 7ms/step - loss: 0.5842 - accuracy: 0.7855 - val_loss: 0.4437 - val_accuracy: 0.8338\n",
      "Epoch 28/50\n",
      "1500/1500 [==============================] - 10s 7ms/step - loss: 0.5814 - accuracy: 0.7864 - val_loss: 0.4363 - val_accuracy: 0.8413\n",
      "Epoch 29/50\n",
      "1500/1500 [==============================] - 10s 7ms/step - loss: 0.5793 - accuracy: 0.7895 - val_loss: 0.4292 - val_accuracy: 0.8443\n",
      "Epoch 30/50\n",
      "1500/1500 [==============================] - 10s 7ms/step - loss: 0.5732 - accuracy: 0.7905 - val_loss: 0.4481 - val_accuracy: 0.8340\n",
      "Epoch 31/50\n",
      "1500/1500 [==============================] - 10s 7ms/step - loss: 0.5776 - accuracy: 0.7897 - val_loss: 0.4310 - val_accuracy: 0.8461\n",
      "Epoch 32/50\n",
      "1500/1500 [==============================] - 10s 7ms/step - loss: 0.5778 - accuracy: 0.7896 - val_loss: 0.4501 - val_accuracy: 0.8343\n",
      "Epoch 33/50\n",
      "1500/1500 [==============================] - 10s 7ms/step - loss: 0.5701 - accuracy: 0.7902 - val_loss: 0.4206 - val_accuracy: 0.8434\n",
      "Epoch 34/50\n",
      "1500/1500 [==============================] - 10s 7ms/step - loss: 0.5729 - accuracy: 0.7917 - val_loss: 0.4244 - val_accuracy: 0.8418\n",
      "Epoch 35/50\n",
      "1500/1500 [==============================] - 10s 7ms/step - loss: 0.5679 - accuracy: 0.7918 - val_loss: 0.4255 - val_accuracy: 0.8422\n",
      "Epoch 36/50\n",
      "1500/1500 [==============================] - 11s 7ms/step - loss: 0.5731 - accuracy: 0.7904 - val_loss: 0.4312 - val_accuracy: 0.8436\n",
      "Epoch 37/50\n",
      "1500/1500 [==============================] - 10s 7ms/step - loss: 0.5716 - accuracy: 0.7908 - val_loss: 0.4138 - val_accuracy: 0.8466\n",
      "Epoch 38/50\n",
      "1500/1500 [==============================] - 10s 7ms/step - loss: 0.5687 - accuracy: 0.7919 - val_loss: 0.4336 - val_accuracy: 0.8414\n",
      "Epoch 39/50\n",
      "1500/1500 [==============================] - 10s 7ms/step - loss: 0.5681 - accuracy: 0.7918 - val_loss: 0.4124 - val_accuracy: 0.8479\n",
      "Epoch 40/50\n",
      "1500/1500 [==============================] - 10s 7ms/step - loss: 0.5669 - accuracy: 0.7925 - val_loss: 0.4216 - val_accuracy: 0.8467\n",
      "Epoch 41/50\n",
      "1500/1500 [==============================] - 10s 7ms/step - loss: 0.5655 - accuracy: 0.7930 - val_loss: 0.4174 - val_accuracy: 0.8436\n",
      "Epoch 42/50\n",
      "1500/1500 [==============================] - 13s 8ms/step - loss: 0.5683 - accuracy: 0.7920 - val_loss: 0.4307 - val_accuracy: 0.8472\n",
      "Epoch 43/50\n",
      "1500/1500 [==============================] - 10s 7ms/step - loss: 0.5596 - accuracy: 0.7937 - val_loss: 0.4346 - val_accuracy: 0.8428\n",
      "Epoch 44/50\n",
      "1500/1500 [==============================] - 10s 7ms/step - loss: 0.5598 - accuracy: 0.7964 - val_loss: 0.4270 - val_accuracy: 0.8453\n",
      "Epoch 45/50\n",
      "1500/1500 [==============================] - 10s 7ms/step - loss: 0.5608 - accuracy: 0.7963 - val_loss: 0.4411 - val_accuracy: 0.8370\n",
      "Epoch 46/50\n",
      "1500/1500 [==============================] - 10s 7ms/step - loss: 0.5616 - accuracy: 0.7966 - val_loss: 0.4338 - val_accuracy: 0.8443\n",
      "Epoch 47/50\n",
      "1500/1500 [==============================] - 11s 7ms/step - loss: 0.5591 - accuracy: 0.7959 - val_loss: 0.4165 - val_accuracy: 0.8480\n",
      "Epoch 48/50\n",
      "1500/1500 [==============================] - 10s 7ms/step - loss: 0.5518 - accuracy: 0.7958 - val_loss: 0.4100 - val_accuracy: 0.8513\n",
      "Epoch 49/50\n",
      "1500/1500 [==============================] - 10s 7ms/step - loss: 0.5528 - accuracy: 0.7981 - val_loss: 0.4401 - val_accuracy: 0.8371\n",
      "Epoch 50/50\n",
      "1500/1500 [==============================] - 10s 7ms/step - loss: 0.5531 - accuracy: 0.7981 - val_loss: 0.4073 - val_accuracy: 0.8497\n"
     ]
    }
   ],
   "source": [
    "history = model.fit(\n",
    "    train_df,\n",
    "    batch_size=BATCH_SIZE,\n",
    "    validation_data=valid_df,\n",
    "    verbose=1,\n",
    "    epochs=50,\n",
    ")"
   ]
  },
  {
   "cell_type": "code",
   "execution_count": 20,
   "id": "b447e90c",
   "metadata": {},
   "outputs": [
    {
     "name": "stdout",
     "output_type": "stream",
     "text": [
      "313/313 [==============================] - 21s 4ms/step - loss: 0.4264 - accuracy: 0.8435\n"
     ]
    }
   ],
   "source": [
    "scores = model.evaluate(test_df)"
   ]
  },
  {
   "cell_type": "markdown",
   "id": "8aac703b",
   "metadata": {},
   "source": [
    "You can see above that we get 83.77% accuracy for our test dataset. This is considered to be a pretty good accuracy"
   ]
  },
  {
   "cell_type": "code",
   "execution_count": 21,
   "id": "b7137df2",
   "metadata": {},
   "outputs": [
    {
     "data": {
      "text/plain": [
       "[0.42635664343833923, 0.843500018119812]"
      ]
     },
     "execution_count": 21,
     "metadata": {},
     "output_type": "execute_result"
    }
   ],
   "source": [
    "scores"
   ]
  },
  {
   "cell_type": "markdown",
   "id": "6c1f7dd5",
   "metadata": {},
   "source": [
    "Scores is just a list containing loss and accuracy value"
   ]
  },
  {
   "cell_type": "markdown",
   "id": "3a940766",
   "metadata": {},
   "source": [
    "### Plotting the Accuracy and Loss Curves"
   ]
  },
  {
   "cell_type": "code",
   "execution_count": 22,
   "id": "824b194e",
   "metadata": {},
   "outputs": [
    {
     "data": {
      "text/plain": [
       "<keras.callbacks.History at 0x1f7aa66edf0>"
      ]
     },
     "execution_count": 22,
     "metadata": {},
     "output_type": "execute_result"
    }
   ],
   "source": [
    "history"
   ]
  },
  {
   "cell_type": "code",
   "execution_count": 23,
   "id": "ce4e773b",
   "metadata": {},
   "outputs": [
    {
     "data": {
      "text/plain": [
       "{'verbose': 1, 'epochs': 50, 'steps': 1500}"
      ]
     },
     "execution_count": 23,
     "metadata": {},
     "output_type": "execute_result"
    }
   ],
   "source": [
    "history.params"
   ]
  },
  {
   "cell_type": "code",
   "execution_count": 24,
   "id": "7bbcb568",
   "metadata": {},
   "outputs": [
    {
     "data": {
      "text/plain": [
       "dict_keys(['loss', 'accuracy', 'val_loss', 'val_accuracy'])"
      ]
     },
     "execution_count": 24,
     "metadata": {},
     "output_type": "execute_result"
    }
   ],
   "source": [
    "history.history.keys()"
   ]
  },
  {
   "cell_type": "markdown",
   "id": "cd2f3a6b",
   "metadata": {},
   "source": [
    "loss, accuracy, val loss etc are a python list containing values of loss, accuracy etc at the end of each epoch"
   ]
  },
  {
   "cell_type": "code",
   "execution_count": 25,
   "id": "41fb207b",
   "metadata": {},
   "outputs": [
    {
     "data": {
      "text/plain": [
       "list"
      ]
     },
     "execution_count": 25,
     "metadata": {},
     "output_type": "execute_result"
    }
   ],
   "source": [
    "type(history.history['loss'])"
   ]
  },
  {
   "cell_type": "code",
   "execution_count": 26,
   "id": "da9e2d6d",
   "metadata": {},
   "outputs": [
    {
     "data": {
      "text/plain": [
       "50"
      ]
     },
     "execution_count": 26,
     "metadata": {},
     "output_type": "execute_result"
    }
   ],
   "source": [
    "len(history.history['loss'])"
   ]
  },
  {
   "cell_type": "code",
   "execution_count": 27,
   "id": "8aeaed2d",
   "metadata": {},
   "outputs": [
    {
     "data": {
      "text/plain": [
       "[1.1829237937927246,\n",
       " 0.860476016998291,\n",
       " 0.7913183569908142,\n",
       " 0.7587751746177673,\n",
       " 0.7238317728042603]"
      ]
     },
     "execution_count": 27,
     "metadata": {},
     "output_type": "execute_result"
    }
   ],
   "source": [
    "history.history['loss'][:5] # show loss for first 5 epochs"
   ]
  },
  {
   "cell_type": "code",
   "execution_count": 28,
   "id": "6390987c",
   "metadata": {},
   "outputs": [],
   "source": [
    "acc = history.history['accuracy']\n",
    "val_acc = history.history['val_accuracy']\n",
    "\n",
    "loss = history.history['loss']\n",
    "val_loss = history.history['val_loss']"
   ]
  },
  {
   "cell_type": "code",
   "execution_count": 30,
   "id": "3c79acb5",
   "metadata": {},
   "outputs": [
    {
     "data": {
      "image/png": "[encoded data removed]",
      "text/plain": [
       "<Figure size 576x576 with 2 Axes>"
      ]
     },
     "metadata": {
      "needs_background": "light"
     },
     "output_type": "display_data"
    }
   ],
   "source": [
    "plt.figure(figsize=(8, 8))\n",
    "plt.subplot(1, 2, 1)\n",
    "plt.plot(range(EPOCHS), acc, label='Training Accuracy')\n",
    "plt.plot(range(EPOCHS), val_acc, label='Validation Accuracy')\n",
    "plt.legend(loc='lower right')\n",
    "plt.title('Training and Validation Accuracy')\n",
    "\n",
    "plt.subplot(1, 2, 2)\n",
    "plt.plot(range(EPOCHS), loss, label='Training Loss')\n",
    "plt.plot(range(EPOCHS), val_loss, label='Validation Loss')\n",
    "plt.legend(loc='upper right')\n",
    "plt.title('Training and Validation Loss')\n",
    "plt.show()"
   ]
  },
  {
   "cell_type": "markdown",
   "id": "a1f5f192",
   "metadata": {},
   "source": [
    "#### Run prediction on a sample image"
   ]
  },
  {
   "cell_type": "code",
   "execution_count": 31,
   "id": "3f7ffc73",
   "metadata": {},
   "outputs": [
    {
     "name": "stdout",
     "output_type": "stream",
     "text": [
      "first image to predict\n",
      "actual label: 0\n",
      "predicted label: 0\n"
     ]
    },
    {
     "data": {
      "image/png": "[encoded data removed]",
      "text/plain": [
       "<Figure size 432x288 with 1 Axes>"
      ]
     },
     "metadata": {
      "needs_background": "light"
     },
     "output_type": "display_data"
    }
   ],
   "source": [
    "import numpy as np\n",
    "for images_batch, labels_batch in test_df.take(1):\n",
    "    \n",
    "    first_image = images_batch[0].numpy().astype('uint8')\n",
    "    first_label = labels_batch[0].numpy()\n",
    "    \n",
    "    print(\"first image to predict\")\n",
    "    plt.imshow(first_image)\n",
    "    print(\"actual label:\",class_names[first_label])\n",
    "    \n",
    "    batch_prediction = model.predict(images_batch)\n",
    "    print(\"predicted label:\",class_names[np.argmax(batch_prediction[0])])"
   ]
  },
  {
   "cell_type": "markdown",
   "id": "4f7ca959",
   "metadata": {},
   "source": [
    "#### Write a function for inference"
   ]
  },
  {
   "cell_type": "code",
   "execution_count": 32,
   "id": "ec8d8048",
   "metadata": {},
   "outputs": [],
   "source": [
    "def predict(model, img):\n",
    "    img_array = tf.keras.preprocessing.image.img_to_array(images[i].numpy())\n",
    "    img_array = tf.expand_dims(img_array, 0)\n",
    "\n",
    "    predictions = model.predict(img_array)\n",
    "\n",
    "    predicted_class = class_names[np.argmax(predictions[0])]\n",
    "    confidence = round(100 * (np.max(predictions[0])), 2)\n",
    "    return predicted_class, confidence"
   ]
  },
  {
   "cell_type": "markdown",
   "id": "1b252510",
   "metadata": {},
   "source": [
    "Now run inference on few sample imagesNow run inference on few sample images"
   ]
  },
  {
   "cell_type": "code",
   "execution_count": 33,
   "id": "93a0e30f",
   "metadata": {},
   "outputs": [
    {
     "data": {
      "image/png": "[encoded data removed]",
      "text/plain": [
       "<Figure size 1080x1080 with 9 Axes>"
      ]
     },
     "metadata": {
      "needs_background": "light"
     },
     "output_type": "display_data"
    }
   ],
   "source": [
    "plt.figure(figsize=(15, 15))\n",
    "for images, labels in test_df.take(1):\n",
    "    for i in range(9):\n",
    "        ax = plt.subplot(3, 3, i + 1)\n",
    "        plt.imshow(images[i].numpy().astype(\"uint8\"))\n",
    "        \n",
    "        predicted_class, confidence = predict(model, images[i].numpy())\n",
    "        actual_class = class_names[labels[i]] \n",
    "        \n",
    "        plt.title(f\"Actual: {actual_class},\\n Predicted: {predicted_class}.\\n Confidence: {confidence}%\")\n",
    "        \n",
    "        plt.axis(\"off\")"
   ]
  },
  {
   "cell_type": "markdown",
   "id": "1dc5cb18",
   "metadata": {},
   "source": [
    "#### Saving the Model"
   ]
  },
  {
   "cell_type": "code",
   "execution_count": 34,
   "id": "0b7d3ee5",
   "metadata": {},
   "outputs": [],
   "source": [
    "model.save(\"model.h5\")"
   ]
  },
  {
   "cell_type": "code",
   "execution_count": null,
   "id": "759f5266",
   "metadata": {},
   "outputs": [],
   "source": []
  },
  {
   "cell_type": "code",
   "execution_count": null,
   "id": "98a0dd79",
   "metadata": {},
   "outputs": [],
   "source": []
  }
 ],
 "metadata": {
  "kernelspec": {
   "display_name": "Python 3 (ipykernel)",
   "language": "python",
   "name": "python3"
  },
  "language_info": {
   "codemirror_mode": {
    "name": "ipython",
    "version": 3
   },
   "file_extension": ".py",
   "mimetype": "text/x-python",
   "name": "python",
   "nbconvert_exporter": "python",
   "pygments_lexer": "ipython3",
   "version": "3.9.7"
  }
 },
 "nbformat": 4,
 "nbformat_minor": 5
}
